{
 "cells": [
  {
   "attachments": {},
   "cell_type": "markdown",
   "metadata": {},
   "source": [
    "Notebook para el desarrollo del proyecto datascience desafio latam"
   ]
  },
  {
   "cell_type": "markdown",
   "metadata": {},
   "source": [
    "### Equipo de trabajo\n",
    "\n",
    "## Roles para el desarrollo del proyecto\n",
    "\n",
    "● Líder del equipo                          = Jorge Guerrero / Paulo Gonzalez\n",
    "\n",
    "● Analista de datos                         = Esteban Sanchez / Gonzalo Rojas\n",
    "\n",
    "● Control de calidad y validación de datos  = Esteban Sanchez / Gonzalo Rojas\n",
    "\n",
    "● Ingeniero/a de modelamiento               = Daniel Mardones / Jorge Guerrero\n",
    "\n",
    "● Visualización de datos                    = Daniel Mardones / Jorge Guerrero\n",
    "\n",
    "● Documentador/a                            = Daniel Mardones / Paulo Gonzalez"
   ]
  },
  {
   "cell_type": "markdown",
   "metadata": {},
   "source": [
    "### Selección del tema y motivación\n",
    "\n",
    "Se selecciona el tema propuesto Automotora, debido a que es una necesidad replicable, universal y contemporanea a cualquier epoca. Nuestra motivación es generar una herramienta de apoyo a la toma de decisiones de los equipos de compra y venta, para obtener las mejores opciones presentes en el mercado, mejorando la rentabilidad del negocio."
   ]
  },
  {
   "cell_type": "markdown",
   "metadata": {},
   "source": [
    "### Planificación de la investigación\n",
    "\n",
    " ## Requerimientos:\n",
    "  \n",
    "    # 1. Generar una herramienta que ayude al equipo de compras a encontrar las mejores oportunidades.\n",
    "        Atraves de un modelo de clasificación que nos permita encontrar la mejor rentabilidad, usando técnicas de ML.\n",
    "\n",
    "    # 2. Definir una propuesta de inversión (lista de automóviles convenientes) para la Automotora.\n",
    "        Por medio de las metricas obtenidos podremos definir una propuesta para inversion, mediante vehiculos que esten por debajo del precio de venta promedio, lo cual permite un mejor margen de venta.\n",
    "\n",
    "    # 3. Definir una estrategia de venta por gama de vehículos.\n",
    "        Se incorpora una columna la cual clasifica la marca del vehiculo en generalista o premium. Con esto podremos generar un analisis del comporatamiento en la venta de vehiculos y con esto desarrollar una estrategia.\n",
    "\n",
    "    # 4. Encontrar oportunidades de compra y venta entre ciudades/estados.\n",
    "        Atraves de un EDA, podemos determinar en que ciudades / estados se encuentran las mejores oportunidades de compra y determinar las mejores ciudades / estados para vender estos vehiculos, maximizando la utilidad.\n",
    "\n",
    "## Hipotesis\n",
    "\n",
    "    Nuestra hipotesis es poder determinar, mediante un modelo clasificatorio si es rentable la compra de un vehiculo, de acuerdo a sus especifaciones, para una posterior venta.\n",
    "\n",
    "## Definición del Vector Objetivo\n",
    "\n",
    "    El vector objetivo es la variable Price.\n",
    "\n",
    "## Estrategias analíticas a nivel descriptivo\n",
    "\n",
    "    Se desarrollorá un EDA, el cual nos visualizara la distrubición de vehiculos de acuerdo a la marca, modelos, año, ciudad, estado, millas y valores de vehiculos.\n",
    "\n",
    "## Modelación y predicción de trabajo\n",
    "\n",
    "    Como primera estrategia utilizaremos la libreria Lazy Predict, utilizando su implementacion estandar, para conocer de forma preliminar los mejores clasificadores para esta solución. Para almacenar los resultados, utilizaremos una base de datos Postgres, lo que permite obtener mediante una query realizada por web, si es conveniente la compra del vehiculo."
   ]
  },
  {
   "cell_type": "markdown",
   "metadata": {},
   "source": [
    "### Disclaimer\n",
    "\n",
    "- Los datos no seran encriptados.\n",
    "\n",
    "- Los set de datos no contienen datos faltantes.\n",
    "\n",
    "- Existen 3 dataset, los cuales por origen se encuentran dividos en: \n",
    "    muestra total = true_car_listings.csv\n",
    "    muestra entrenamiento = true_cars_train.csv\n",
    "    muestra validacion = true_cars_test.csv\n",
    "    Debido a esto, no se realiza divisiones de muestra, solo de vector objetivo y matriz de atributos."
   ]
  },
  {
   "cell_type": "code",
   "execution_count": null,
   "metadata": {},
   "outputs": [],
   "source": [
    "# Procesamiento de datos\n",
    "import pandas as pd\n",
    "import numpy as np\n",
    "import matplotlib.pyplot as plt\n",
    "import seaborn as sns\n",
    "\n",
    "import lazypredict\n",
    "\n",
    "\n",
    "# Machine Learning\n",
    "from sklearn.ensemble import GradientBoostingClassifier, AdaBoostClassifier, RandomForestClassifier \n",
    "from sklearn.svm import SVC\n",
    "from sklearn.tree import DecisionTreeClassifier\n",
    "from sklearn.linear_model import LogisticRegression\n",
    "from sklearn.naive_bayes import BernoulliNB\n",
    "from sklearn.preprocessing import LabelEncoder\n",
    "from sklearn.metrics import classification_report\n",
    "\n",
    "from lazypredict.Supervised import LazyClassifier\n",
    "from lazypredict.Supervised import LazyRegressor\n",
    "\n",
    "\n",
    "# Tratamiento de warnings\n",
    "import warnings\n",
    "warnings.simplefilter('ignore')"
   ]
  },
  {
   "cell_type": "code",
   "execution_count": null,
   "metadata": {},
   "outputs": [],
   "source": [
    "df_eda = pd.read_csv('Apoyo Tema Propuesto - Automotora/true_car_listings.csv')\n",
    "df_eda\n"
   ]
  },
  {
   "cell_type": "code",
   "execution_count": null,
   "metadata": {},
   "outputs": [],
   "source": [
    "df_eda['Make'].unique()"
   ]
  },
  {
   "cell_type": "code",
   "execution_count": null,
   "metadata": {},
   "outputs": [],
   "source": [
    "premium = ['Acura','Alfa','Aston','AM','Audi', 'Bentley', 'BMW','Cadillac','Ferrari','Genesis','HUMMER','INFINITI',\n",
    "           'Jaguar','Lamborghini', 'Land', 'Lexus', 'Lincoln', 'Lotus', 'Maserati','Maybach', 'McLaren', 'Mercedes-Benz',\n",
    "           'MINI','Porsche','Rolls-Royce', 'Saab', 'Saturn', 'Scion','smart','Tesla','Volvo']\n",
    "generalista = ['Buick','Cadillac', 'Chevrolet', 'Chrysler', 'Dodge', 'FIAT','Fisker', 'Ford', 'Freightliner', 'Geo', \n",
    "               'GMC', 'Honda','Hyundai', 'Isuzu', 'Jeep', 'Kia', 'Mazda', 'Mercury','Mitsubishi', 'Nissan', \n",
    "               'Oldsmobile', 'Plymouth', 'Pontiac', 'Ram','Subaru', 'Suzuki',  'Toyota', 'Volkswagen']"
   ]
  },
  {
   "cell_type": "code",
   "execution_count": null,
   "metadata": {},
   "outputs": [],
   "source": [
    "df_train = pd.read_csv('Apoyo Tema Propuesto - Automotora/true_cars_train.csv',sep=';' )\n",
    "df_train"
   ]
  },
  {
   "cell_type": "code",
   "execution_count": null,
   "metadata": {},
   "outputs": [],
   "source": [
    "df_test = pd.read_csv('Apoyo Tema Propuesto - Automotora/true_cars_test.csv',sep=';' )\n",
    "df_test"
   ]
  },
  {
   "cell_type": "code",
   "execution_count": null,
   "metadata": {},
   "outputs": [],
   "source": [
    "df_test['Price']"
   ]
  },
  {
   "cell_type": "code",
   "execution_count": null,
   "metadata": {},
   "outputs": [],
   "source": [
    "df_X_train_lazy = df_train\n",
    "# Preprocesamiento de variables parta graficos\n",
    "df_X_train_lazy['City'] = LabelEncoder().fit_transform(df_X_train_lazy['City'])\n",
    "df_X_train_lazy['State'] = LabelEncoder().fit_transform(df_X_train_lazy['State'])\n",
    "df_X_train_lazy['Vin'] = LabelEncoder().fit_transform(df_X_train_lazy['Vin'])\n",
    "df_X_train_lazy['Make'] = LabelEncoder().fit_transform(df_X_train_lazy['Make'])\n",
    "df_X_train_lazy['Model'] = LabelEncoder().fit_transform(df_X_train_lazy['Model'])\n",
    "df_X_train_lazy.sample(5,random_state = 666)"
   ]
  },
  {
   "cell_type": "code",
   "execution_count": null,
   "metadata": {},
   "outputs": [],
   "source": [
    "df_y_test_lazy = df_test\n",
    "df_y_test_lazy['City'] = LabelEncoder().fit_transform(df_y_test_lazy['City'])\n",
    "df_y_test_lazy['State'] = LabelEncoder().fit_transform(df_y_test_lazy['State'])\n",
    "df_y_test_lazy['Vin'] = LabelEncoder().fit_transform(df_y_test_lazy['Vin'])\n",
    "df_y_test_lazy['Make'] = LabelEncoder().fit_transform(df_y_test_lazy['Make'])\n",
    "df_y_test_lazy['Model'] = LabelEncoder().fit_transform(df_y_test_lazy['Model'])\n",
    "df_y_test_lazy.sample(5,random_state = 666)"
   ]
  },
  {
   "cell_type": "code",
   "execution_count": null,
   "metadata": {},
   "outputs": [],
   "source": [
    "X_train_lazy = df_X_train_lazy.drop(columns = 'Price')\n",
    "X_test_lazy = df_test.drop(columns = 'Price')"
   ]
  },
  {
   "cell_type": "code",
   "execution_count": null,
   "metadata": {},
   "outputs": [],
   "source": [
    "y_train_lazy = df_X_train_lazy['Price']\n",
    "y_test_lazy = df_y_test_lazy['Price']"
   ]
  },
  {
   "cell_type": "code",
   "execution_count": null,
   "metadata": {},
   "outputs": [],
   "source": [
    "lazy_reg = LazyRegressor(verbose = 0, ignore_warnings = True, predictions=True)\n",
    "models,predictions = lazy_reg.fit(X_train_lazy, X_test_lazy, y_train_lazy, y_test_lazy)"
   ]
  }
 ],
 "metadata": {
  "kernelspec": {
   "display_name": "Python 3",
   "language": "python",
   "name": "python3"
  },
  "language_info": {
   "codemirror_mode": {
    "name": "ipython",
    "version": 3
   },
   "file_extension": ".py",
   "mimetype": "text/x-python",
   "name": "python",
   "nbconvert_exporter": "python",
   "pygments_lexer": "ipython3",
   "version": "3.10.6"
  },
  "orig_nbformat": 4,
  "vscode": {
   "interpreter": {
    "hash": "31f2aee4e71d21fbe5cf8b01ff0e069b9275f58929596ceb00d14d90e3e16cd6"
   }
  }
 },
 "nbformat": 4,
 "nbformat_minor": 2
}
